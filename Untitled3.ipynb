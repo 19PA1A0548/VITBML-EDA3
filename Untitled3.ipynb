{
  "nbformat": 4,
  "nbformat_minor": 0,
  "metadata": {
    "colab": {
      "name": "Untitled3.ipynb",
      "provenance": [],
      "collapsed_sections": [],
      "authorship_tag": "ABX9TyMtFOmZBwNZWQkHy/TTTXE9",
      "include_colab_link": true
    },
    "kernelspec": {
      "name": "python3",
      "display_name": "Python 3"
    }
  },
  "cells": [
    {
      "cell_type": "markdown",
      "metadata": {
        "id": "view-in-github",
        "colab_type": "text"
      },
      "source": [
        "<a href=\"https://colab.research.google.com/github/19PA1A0548/VITBML-EDA3/blob/master/Untitled3.ipynb\" target=\"_parent\"><img src=\"https://colab.research.google.com/assets/colab-badge.svg\" alt=\"Open In Colab\"/></a>"
      ]
    },
    {
      "cell_type": "code",
      "metadata": {
        "id": "6D2R3S8WCCUe",
        "colab_type": "code",
        "colab": {}
      },
      "source": [
        "import numpy as np\n",
        "import pandas as pd\n",
        "import matplotlib.pyplot as plt\n",
        "%matplotlib inline\n",
        "import seaborn as sns"
      ],
      "execution_count": 24,
      "outputs": []
    },
    {
      "cell_type": "code",
      "metadata": {
        "id": "UaXoaePxWtn2",
        "colab_type": "code",
        "colab": {
          "base_uri": "https://localhost:8080/",
          "height": 479
        },
        "outputId": "15695445-9946-4972-e295-a8f0864a8459"
      },
      "source": [
        "path = pd.read_csv(\"Information.csv\",encoding = \"ISO-8859-1\" )\n",
        "path.head()"
      ],
      "execution_count": 27,
      "outputs": [
        {
          "output_type": "execute_result",
          "data": {
            "text/html": [
              "<div>\n",
              "<style scoped>\n",
              "    .dataframe tbody tr th:only-of-type {\n",
              "        vertical-align: middle;\n",
              "    }\n",
              "\n",
              "    .dataframe tbody tr th {\n",
              "        vertical-align: top;\n",
              "    }\n",
              "\n",
              "    .dataframe thead th {\n",
              "        text-align: right;\n",
              "    }\n",
              "</style>\n",
              "<table border=\"1\" class=\"dataframe\">\n",
              "  <thead>\n",
              "    <tr style=\"text-align: right;\">\n",
              "      <th></th>\n",
              "      <th>_unit_id</th>\n",
              "      <th>_golden</th>\n",
              "      <th>_unit_state</th>\n",
              "      <th>_trusted_judgments</th>\n",
              "      <th>_last_judgment_at</th>\n",
              "      <th>gender</th>\n",
              "      <th>gender:confidence</th>\n",
              "      <th>profile_yn</th>\n",
              "      <th>profile_yn:confidence</th>\n",
              "      <th>created</th>\n",
              "      <th>description</th>\n",
              "      <th>fav_number</th>\n",
              "      <th>gender_gold</th>\n",
              "      <th>link_color</th>\n",
              "      <th>name</th>\n",
              "      <th>profile_yn_gold</th>\n",
              "      <th>profileimage</th>\n",
              "      <th>retweet_count</th>\n",
              "      <th>sidebar_color</th>\n",
              "      <th>text</th>\n",
              "      <th>tweet_coord</th>\n",
              "      <th>tweet_count</th>\n",
              "      <th>tweet_created</th>\n",
              "      <th>tweet_id</th>\n",
              "      <th>tweet_location</th>\n",
              "      <th>user_timezone</th>\n",
              "    </tr>\n",
              "  </thead>\n",
              "  <tbody>\n",
              "    <tr>\n",
              "      <th>0</th>\n",
              "      <td>815719226</td>\n",
              "      <td>False</td>\n",
              "      <td>finalized</td>\n",
              "      <td>3</td>\n",
              "      <td>10/26/15 23:24</td>\n",
              "      <td>male</td>\n",
              "      <td>1.0000</td>\n",
              "      <td>yes</td>\n",
              "      <td>1.0</td>\n",
              "      <td>12/5/13 1:48</td>\n",
              "      <td>i sing my own rhythm.</td>\n",
              "      <td>0</td>\n",
              "      <td>NaN</td>\n",
              "      <td>08C2C2</td>\n",
              "      <td>sheezy0</td>\n",
              "      <td>NaN</td>\n",
              "      <td>https://pbs.twimg.com/profile_images/414342229...</td>\n",
              "      <td>0</td>\n",
              "      <td>FFFFFF</td>\n",
              "      <td>Robbie E Responds To Critics After Win Against...</td>\n",
              "      <td>NaN</td>\n",
              "      <td>110964</td>\n",
              "      <td>10/26/15 12:40</td>\n",
              "      <td>6.587300e+17</td>\n",
              "      <td>main; @Kan1shk3</td>\n",
              "      <td>Chennai</td>\n",
              "    </tr>\n",
              "    <tr>\n",
              "      <th>1</th>\n",
              "      <td>815719227</td>\n",
              "      <td>False</td>\n",
              "      <td>finalized</td>\n",
              "      <td>3</td>\n",
              "      <td>10/26/15 23:30</td>\n",
              "      <td>male</td>\n",
              "      <td>1.0000</td>\n",
              "      <td>yes</td>\n",
              "      <td>1.0</td>\n",
              "      <td>10/1/12 13:51</td>\n",
              "      <td>I'm the author of novels filled with family dr...</td>\n",
              "      <td>68</td>\n",
              "      <td>NaN</td>\n",
              "      <td>0084B4</td>\n",
              "      <td>DavdBurnett</td>\n",
              "      <td>NaN</td>\n",
              "      <td>https://pbs.twimg.com/profile_images/539604221...</td>\n",
              "      <td>0</td>\n",
              "      <td>C0DEED</td>\n",
              "      <td>ÛÏIt felt like they were my friends and I was...</td>\n",
              "      <td>NaN</td>\n",
              "      <td>7471</td>\n",
              "      <td>10/26/15 12:40</td>\n",
              "      <td>6.587300e+17</td>\n",
              "      <td>NaN</td>\n",
              "      <td>Eastern Time (US &amp; Canada)</td>\n",
              "    </tr>\n",
              "    <tr>\n",
              "      <th>2</th>\n",
              "      <td>815719228</td>\n",
              "      <td>False</td>\n",
              "      <td>finalized</td>\n",
              "      <td>3</td>\n",
              "      <td>10/26/15 23:33</td>\n",
              "      <td>male</td>\n",
              "      <td>0.6625</td>\n",
              "      <td>yes</td>\n",
              "      <td>1.0</td>\n",
              "      <td>11/28/14 11:30</td>\n",
              "      <td>louis whining and squealing and all</td>\n",
              "      <td>7696</td>\n",
              "      <td>NaN</td>\n",
              "      <td>ABB8C2</td>\n",
              "      <td>lwtprettylaugh</td>\n",
              "      <td>NaN</td>\n",
              "      <td>https://pbs.twimg.com/profile_images/657330418...</td>\n",
              "      <td>1</td>\n",
              "      <td>C0DEED</td>\n",
              "      <td>i absolutely adore when louis starts the songs...</td>\n",
              "      <td>NaN</td>\n",
              "      <td>5617</td>\n",
              "      <td>10/26/15 12:40</td>\n",
              "      <td>6.587300e+17</td>\n",
              "      <td>clcncl</td>\n",
              "      <td>Belgrade</td>\n",
              "    </tr>\n",
              "    <tr>\n",
              "      <th>3</th>\n",
              "      <td>815719229</td>\n",
              "      <td>False</td>\n",
              "      <td>finalized</td>\n",
              "      <td>3</td>\n",
              "      <td>10/26/15 23:10</td>\n",
              "      <td>male</td>\n",
              "      <td>1.0000</td>\n",
              "      <td>yes</td>\n",
              "      <td>1.0</td>\n",
              "      <td>6/11/09 22:39</td>\n",
              "      <td>Mobile guy.  49ers, Shazam, Google, Kleiner Pe...</td>\n",
              "      <td>202</td>\n",
              "      <td>NaN</td>\n",
              "      <td>0084B4</td>\n",
              "      <td>douggarland</td>\n",
              "      <td>NaN</td>\n",
              "      <td>https://pbs.twimg.com/profile_images/259703936...</td>\n",
              "      <td>0</td>\n",
              "      <td>C0DEED</td>\n",
              "      <td>Hi @JordanSpieth - Looking at the url - do you...</td>\n",
              "      <td>NaN</td>\n",
              "      <td>1693</td>\n",
              "      <td>10/26/15 12:40</td>\n",
              "      <td>6.587300e+17</td>\n",
              "      <td>Palo Alto, CA</td>\n",
              "      <td>Pacific Time (US &amp; Canada)</td>\n",
              "    </tr>\n",
              "    <tr>\n",
              "      <th>4</th>\n",
              "      <td>815719230</td>\n",
              "      <td>False</td>\n",
              "      <td>finalized</td>\n",
              "      <td>3</td>\n",
              "      <td>10/27/15 1:15</td>\n",
              "      <td>female</td>\n",
              "      <td>1.0000</td>\n",
              "      <td>yes</td>\n",
              "      <td>1.0</td>\n",
              "      <td>4/16/14 13:23</td>\n",
              "      <td>Ricky Wilson The Best FRONTMAN/Kaiser Chiefs T...</td>\n",
              "      <td>37318</td>\n",
              "      <td>NaN</td>\n",
              "      <td>3B94D9</td>\n",
              "      <td>WilfordGemma</td>\n",
              "      <td>NaN</td>\n",
              "      <td>https://pbs.twimg.com/profile_images/564094871...</td>\n",
              "      <td>0</td>\n",
              "      <td>0</td>\n",
              "      <td>Watching Neighbours on Sky+ catching up with t...</td>\n",
              "      <td>NaN</td>\n",
              "      <td>31462</td>\n",
              "      <td>10/26/15 12:40</td>\n",
              "      <td>6.587300e+17</td>\n",
              "      <td>NaN</td>\n",
              "      <td>NaN</td>\n",
              "    </tr>\n",
              "  </tbody>\n",
              "</table>\n",
              "</div>"
            ],
            "text/plain": [
              "    _unit_id  _golden  ...   tweet_location               user_timezone\n",
              "0  815719226    False  ...  main; @Kan1shk3                     Chennai\n",
              "1  815719227    False  ...              NaN  Eastern Time (US & Canada)\n",
              "2  815719228    False  ...           clcncl                    Belgrade\n",
              "3  815719229    False  ...    Palo Alto, CA  Pacific Time (US & Canada)\n",
              "4  815719230    False  ...              NaN                         NaN\n",
              "\n",
              "[5 rows x 26 columns]"
            ]
          },
          "metadata": {
            "tags": []
          },
          "execution_count": 27
        }
      ]
    },
    {
      "cell_type": "code",
      "metadata": {
        "id": "FznnW5HUW0iu",
        "colab_type": "code",
        "colab": {
          "base_uri": "https://localhost:8080/",
          "height": 476
        },
        "outputId": "c378585b-c107-4683-8da4-8fb117616669"
      },
      "source": [
        "for i in path.columns:\n",
        "  if path[i].isna().any() == True:\n",
        "    path[i].fillna(method = \"ffill\", inplace = True)\n",
        "    path[i].fillna(method = \"bfill\", inplace = True)\n",
        "path.isna().any()"
      ],
      "execution_count": 28,
      "outputs": [
        {
          "output_type": "execute_result",
          "data": {
            "text/plain": [
              "_unit_id                 False\n",
              "_golden                  False\n",
              "_unit_state              False\n",
              "_trusted_judgments       False\n",
              "_last_judgment_at        False\n",
              "gender                   False\n",
              "gender:confidence        False\n",
              "profile_yn               False\n",
              "profile_yn:confidence    False\n",
              "created                  False\n",
              "description              False\n",
              "fav_number               False\n",
              "gender_gold              False\n",
              "link_color               False\n",
              "name                     False\n",
              "profile_yn_gold          False\n",
              "profileimage             False\n",
              "retweet_count            False\n",
              "sidebar_color            False\n",
              "text                     False\n",
              "tweet_coord              False\n",
              "tweet_count              False\n",
              "tweet_created            False\n",
              "tweet_id                 False\n",
              "tweet_location           False\n",
              "user_timezone            False\n",
              "dtype: bool"
            ]
          },
          "metadata": {
            "tags": []
          },
          "execution_count": 28
        }
      ]
    },
    {
      "cell_type": "code",
      "metadata": {
        "id": "lwnbyeknW9kA",
        "colab_type": "code",
        "colab": {
          "base_uri": "https://localhost:8080/",
          "height": 102
        },
        "outputId": "3692a316-b8e6-4065-b543-d49c672857f0"
      },
      "source": [
        "path[\"gender:confidence\"] = np.where(path[\"gender:confidence\"].between(0.600, 0.610), 0.60, path[\"gender:confidence\"])\n",
        "path[\"gender:confidence\"] = np.where(path[\"gender:confidence\"].between(0.610, 0.620), 0.61, path[\"gender:confidence\"])\n",
        "path[\"gender:confidence\"] = np.where(path[\"gender:confidence\"].between(0.620, 0.630), 0.62, path[\"gender:confidence\"])\n",
        "path[\"gender:confidence\"] = np.where(path[\"gender:confidence\"].between(0.630, 0.640), 0.63, path[\"gender:confidence\"])\n",
        "path[\"gender:confidence\"] = np.where(path[\"gender:confidence\"].between(0.640, 0.650), 0.64, path[\"gender:confidence\"])\n",
        "path[\"gender:confidence\"] = np.where(path[\"gender:confidence\"].between(0.650, 0.660), 0.65, path[\"gender:confidence\"])\n",
        "path[\"gender:confidence\"] = np.where(path[\"gender:confidence\"].between(0.660, 0.670), 0.66, path[\"gender:confidence\"])\n",
        "path[\"gender:confidence\"] = np.where(path[\"gender:confidence\"].between(0.670, 0.680), 0.67, path[\"gender:confidence\"])\n",
        "path[\"gender:confidence\"] = np.where(path[\"gender:confidence\"].between(0.680, 0.690), 0.68, path[\"gender:confidence\"])\n",
        "path[\"gender:confidence\"] = np.where(path[\"gender:confidence\"].between(0.690, 0.700), 0.69, path[\"gender:confidence\"])\n",
        "############jkgsauis\n",
        "path[\"gender:confidence\"] = np.where(path[\"gender:confidence\"].between(0.700, 0.710), 0.70, path[\"gender:confidence\"])\n",
        "path[\"gender:confidence\"] = np.where(path[\"gender:confidence\"].between(0.710, 0.720), 0.71, path[\"gender:confidence\"])\n",
        "path[\"gender:confidence\"] = np.where(path[\"gender:confidence\"].between(0.720, 0.730), 0.72, path[\"gender:confidence\"])\n",
        "path[\"gender:confidence\"] = np.where(path[\"gender:confidence\"].between(0.730, 0.740), 0.73, path[\"gender:confidence\"])\n",
        "path[\"gender:confidence\"] = np.where(path[\"gender:confidence\"].between(0.740, 0.750), 0.74, path[\"gender:confidence\"])\n",
        "path[\"gender:confidence\"] = np.where(path[\"gender:confidence\"].between(0.750, 0.760), 0.75, path[\"gender:confidence\"])\n",
        "path[\"gender:confidence\"] = np.where(path[\"gender:confidence\"].between(0.760, 0.770), 0.76, path[\"gender:confidence\"])\n",
        "path[\"gender:confidence\"] = np.where(path[\"gender:confidence\"].between(0.770, 0.780), 0.77, path[\"gender:confidence\"])\n",
        "path[\"gender:confidence\"] = np.where(path[\"gender:confidence\"].between(0.780, 0.790), 0.78, path[\"gender:confidence\"])\n",
        "path[\"gender:confidence\"] = np.where(path[\"gender:confidence\"].between(0.790, 0.800), 0.79, path[\"gender:confidence\"])\n",
        "#################ydsghgtisusiery\n",
        "path[\"gender:confidence\"] = np.where(path[\"gender:confidence\"].between(0.300, 0.310), 0.30, path[\"gender:confidence\"])\n",
        "path[\"gender:confidence\"] = np.where(path[\"gender:confidence\"].between(0.310, 0.320), 0.31, path[\"gender:confidence\"])\n",
        "path[\"gender:confidence\"] = np.where(path[\"gender:confidence\"].between(0.320, 0.330), 0.32, path[\"gender:confidence\"])\n",
        "path[\"gender:confidence\"] = np.where(path[\"gender:confidence\"].between(0.330, 0.340), 0.33, path[\"gender:confidence\"])\n",
        "path[\"gender:confidence\"] = np.where(path[\"gender:confidence\"].between(0.340, 0.350), 0.34, path[\"gender:confidence\"])\n",
        "path[\"gender:confidence\"] = np.where(path[\"gender:confidence\"].between(0.350, 0.360), 0.35, path[\"gender:confidence\"])\n",
        "path[\"gender:confidence\"] = np.where(path[\"gender:confidence\"].between(0.360, 0.370), 0.36, path[\"gender:confidence\"])\n",
        "path[\"gender:confidence\"] = np.where(path[\"gender:confidence\"].between(0.370, 0.380), 0.37, path[\"gender:confidence\"])\n",
        "path[\"gender:confidence\"] = np.where(path[\"gender:confidence\"].between(0.380, 0.390), 0.38, path[\"gender:confidence\"])\n",
        "path[\"gender:confidence\"] = np.where(path[\"gender:confidence\"].between(0.390, 0.400), 0.39, path[\"gender:confidence\"])\n",
        "path[\"gender:confidence\"].unique()"
      ],
      "execution_count": 29,
      "outputs": [
        {
          "output_type": "execute_result",
          "data": {
            "text/plain": [
              "array([1.    , 0.66  , 0.7   , 0.65  , 0.35  , 0.33  , 0.34  , 0.64  ,\n",
              "       0.67  , 0.63  , 0.    , 0.68  , 0.37  , 0.69  , 0.32  , 0.36  ,\n",
              "       0.62  , 0.31  , 0.9612, 0.9622, 0.75  , 0.8503, 0.8458, 0.9636,\n",
              "       0.8796, 0.9613, 0.76  , 0.6   , 0.5762, 0.554 , 0.9618, 0.5654,\n",
              "       0.8431, 0.8397, 0.8472, 0.8489])"
            ]
          },
          "metadata": {
            "tags": []
          },
          "execution_count": 29
        }
      ]
    },
    {
      "cell_type": "code",
      "metadata": {
        "id": "8_9eHfVUXJaV",
        "colab_type": "code",
        "colab": {
          "base_uri": "https://localhost:8080/",
          "height": 34
        },
        "outputId": "d8915442-4e10-4bb9-9b39-7814e7440805"
      },
      "source": [
        "path[\"_unit_state\"].unique()"
      ],
      "execution_count": 30,
      "outputs": [
        {
          "output_type": "execute_result",
          "data": {
            "text/plain": [
              "array(['finalized', 'golden'], dtype=object)"
            ]
          },
          "metadata": {
            "tags": []
          },
          "execution_count": 30
        }
      ]
    },
    {
      "cell_type": "code",
      "metadata": {
        "id": "H089VQLvXQaE",
        "colab_type": "code",
        "colab": {
          "base_uri": "https://localhost:8080/",
          "height": 34
        },
        "outputId": "cc8738f0-5201-497b-b28f-76e390fe8b07"
      },
      "source": [
        "path[\"gender\"].replace( to_replace = \"male\", value = 1, inplace = True) \n",
        "path[\"gender\"].replace(to_replace = \"female\", value = 0, inplace = True)\n",
        "path[\"gender\"].unique()"
      ],
      "execution_count": 31,
      "outputs": [
        {
          "output_type": "execute_result",
          "data": {
            "text/plain": [
              "array([1, 0, 'brand', 'unknown'], dtype=object)"
            ]
          },
          "metadata": {
            "tags": []
          },
          "execution_count": 31
        }
      ]
    },
    {
      "cell_type": "code",
      "metadata": {
        "id": "OPX3FdviXXw7",
        "colab_type": "code",
        "colab": {
          "base_uri": "https://localhost:8080/",
          "height": 34
        },
        "outputId": "b067b2c1-10be-46e9-cd58-2474b5e7ea8f"
      },
      "source": [
        "path[\"gender\"].replace(to_replace = \"brand\", value = 2, inplace = True)\n",
        "path[\"gender\"].replace(to_replace = \"unknown\", value = 3, inplace = True)\n",
        "path[\"gender\"].unique()"
      ],
      "execution_count": 32,
      "outputs": [
        {
          "output_type": "execute_result",
          "data": {
            "text/plain": [
              "array([1, 0, 2, 3])"
            ]
          },
          "metadata": {
            "tags": []
          },
          "execution_count": 32
        }
      ]
    },
    {
      "cell_type": "code",
      "metadata": {
        "id": "0KtY1gFZXjvl",
        "colab_type": "code",
        "colab": {
          "base_uri": "https://localhost:8080/",
          "height": 34
        },
        "outputId": "37e18b5a-45de-4eee-a54f-535772091430"
      },
      "source": [
        "path[\"tweet_id\"].unique()"
      ],
      "execution_count": 33,
      "outputs": [
        {
          "output_type": "execute_result",
          "data": {
            "text/plain": [
              "array([6.5873e+17, 6.5874e+17])"
            ]
          },
          "metadata": {
            "tags": []
          },
          "execution_count": 33
        }
      ]
    },
    {
      "cell_type": "code",
      "metadata": {
        "id": "BEMLzgDrX20j",
        "colab_type": "code",
        "colab": {
          "base_uri": "https://localhost:8080/",
          "height": 68
        },
        "outputId": "aec4f65c-e75c-4806-cdb8-610c22312608"
      },
      "source": [
        "path[\"_trusted_judgments\"].unique()"
      ],
      "execution_count": 34,
      "outputs": [
        {
          "output_type": "execute_result",
          "data": {
            "text/plain": [
              "array([  3, 249, 271, 245, 261, 247, 242, 256, 262, 259, 264, 258, 260,\n",
              "       228, 233, 255, 235, 254, 231, 274, 246, 273, 239, 270, 237, 227,\n",
              "       253, 252, 212, 240, 248, 250])"
            ]
          },
          "metadata": {
            "tags": []
          },
          "execution_count": 34
        }
      ]
    },
    {
      "cell_type": "code",
      "metadata": {
        "id": "WIxbSVbUYBN6",
        "colab_type": "code",
        "colab": {
          "base_uri": "https://localhost:8080/",
          "height": 102
        },
        "outputId": "f8e519c4-3efb-49bd-9958-04add84b5b72"
      },
      "source": [
        "path[\"gender:confidence\"].unique()"
      ],
      "execution_count": 35,
      "outputs": [
        {
          "output_type": "execute_result",
          "data": {
            "text/plain": [
              "array([1.    , 0.66  , 0.7   , 0.65  , 0.35  , 0.33  , 0.34  , 0.64  ,\n",
              "       0.67  , 0.63  , 0.    , 0.68  , 0.37  , 0.69  , 0.32  , 0.36  ,\n",
              "       0.62  , 0.31  , 0.9612, 0.9622, 0.75  , 0.8503, 0.8458, 0.9636,\n",
              "       0.8796, 0.9613, 0.76  , 0.6   , 0.5762, 0.554 , 0.9618, 0.5654,\n",
              "       0.8431, 0.8397, 0.8472, 0.8489])"
            ]
          },
          "metadata": {
            "tags": []
          },
          "execution_count": 35
        }
      ]
    },
    {
      "cell_type": "code",
      "metadata": {
        "id": "Ln3ZZ7wbYGeI",
        "colab_type": "code",
        "colab": {
          "base_uri": "https://localhost:8080/",
          "height": 595
        },
        "outputId": "10a141ce-5ad2-4cd2-e013-103c781949e7"
      },
      "source": [
        "path[\"profile_yn:confidence\"].unique()"
      ],
      "execution_count": 36,
      "outputs": [
        {
          "output_type": "execute_result",
          "data": {
            "text/plain": [
              "array([1.    , 0.6581, 0.6566, 0.6716, 0.6527, 0.6478, 0.6769, 0.6913,\n",
              "       0.6636, 0.6616, 0.6552, 0.681 , 0.646 , 0.6574, 0.6741, 0.669 ,\n",
              "       0.6642, 0.6649, 0.6683, 0.6711, 0.6768, 0.6686, 0.6694, 0.6622,\n",
              "       0.6556, 0.6691, 0.6889, 0.6842, 0.6596, 0.6719, 0.6784, 0.6583,\n",
              "       0.6618, 0.6777, 0.6803, 0.6475, 0.6599, 0.6822, 0.6467, 0.6461,\n",
              "       0.697 , 0.6627, 0.6531, 0.6436, 0.6904, 0.6635, 0.6817, 0.688 ,\n",
              "       0.6561, 0.6493, 0.6785, 0.6575, 0.6543, 0.6538, 0.6722, 0.6406,\n",
              "       0.6504, 0.6734, 0.6541, 0.671 , 0.6323, 0.664 , 0.6594, 0.689 ,\n",
              "       0.6682, 0.694 , 0.6677, 0.6557, 0.6551, 0.6839, 0.6523, 0.6714,\n",
              "       0.6619, 0.6907, 0.6666, 0.6713, 0.6737, 0.6693, 0.6631, 0.6814,\n",
              "       0.6628, 0.6612, 0.6727, 0.6752, 0.6801, 0.6361, 0.6464, 0.6865,\n",
              "       0.653 , 0.6519, 0.659 , 0.6477, 0.6859, 0.6696, 0.647 , 0.675 ,\n",
              "       0.661 , 0.6408, 0.6676, 0.6623, 0.6674, 0.6731, 0.6976, 0.6905,\n",
              "       0.6881, 0.6767, 0.6625, 0.6377, 0.6816, 0.6781, 0.6825, 0.6524,\n",
              "       0.6705, 0.6418, 0.6485, 0.678 , 0.6509, 0.6595, 0.6856, 0.6651,\n",
              "       0.6603, 0.6838, 0.6434, 0.6726, 0.6424, 0.6875, 0.6669, 0.6786,\n",
              "       0.6598, 0.6749, 0.6505, 0.6629, 0.6671, 0.6864, 0.6743, 0.6867,\n",
              "       0.6732, 0.6613, 0.6602, 0.6812, 0.6888, 0.6497, 0.6771, 0.6648,\n",
              "       0.6673, 0.6703, 0.6819, 0.6607, 0.6701, 0.6606, 0.6665, 0.6664,\n",
              "       0.6879, 0.6593, 0.6373, 0.6547, 0.6456, 0.6634, 0.6709, 0.682 ,\n",
              "       0.6641, 0.6645, 0.644 , 0.6432, 0.6658, 0.6776, 0.6481, 0.6655,\n",
              "       0.6712, 0.6444, 0.6757, 0.65  , 0.6715, 0.6548, 0.6774, 0.6488,\n",
              "       0.6707, 0.654 , 0.6678, 0.6621, 0.6766, 0.6773, 0.674 , 0.6824,\n",
              "       0.6568, 0.6617, 0.6545, 0.6512, 0.6675, 0.6589, 0.6562, 0.6516,\n",
              "       0.676 , 0.6494, 0.6659, 0.6584, 0.6775, 0.6689, 0.6646, 0.6579,\n",
              "       0.6272, 0.6772, 0.6462, 0.6426, 0.6544, 0.6498, 0.6615, 0.6591,\n",
              "       0.6452, 0.6961, 0.6571, 0.6702, 0.6895, 0.6404, 0.6582, 0.6476,\n",
              "       0.6916, 0.6729, 0.6442, 0.6532, 0.6445, 0.6782, 0.6735, 0.68  ,\n",
              "       0.666 , 0.6637, 0.6855, 0.6567, 0.6656, 0.6718, 0.6946, 0.6604,\n",
              "       0.6506, 0.641 , 0.6742, 0.6466, 0.686 , 0.6587, 0.6592, 0.6672,\n",
              "       0.6684, 0.6483, 0.6762, 0.6663, 0.631 , 0.6818, 0.6736, 0.6308,\n",
              "       0.6898, 0.6639, 0.6789, 0.6471, 0.6748, 0.6586, 0.6739, 0.667 ,\n",
              "       0.6751, 0.6806, 0.6685, 0.6362, 0.6708, 0.6609, 0.6403, 0.643 ,\n",
              "       0.6807, 0.9612, 0.9636])"
            ]
          },
          "metadata": {
            "tags": []
          },
          "execution_count": 36
        }
      ]
    },
    {
      "cell_type": "code",
      "metadata": {
        "id": "QgjLMoGlYOdr",
        "colab_type": "code",
        "colab": {
          "base_uri": "https://localhost:8080/",
          "height": 51
        },
        "outputId": "ebb664b1-1c00-4a5b-dbd7-09accbacf203"
      },
      "source": [
        "path[\"profile_yn:confidence\"] = np.where(path[\"profile_yn:confidence\"].between(0.600, 0.610), 0.60, path[\"profile_yn:confidence\"])\n",
        "path[\"profile_yn:confidence\"] = np.where(path[\"profile_yn:confidence\"].between(0.610, 0.620), 0.61, path[\"profile_yn:confidence\"])\n",
        "path[\"profile_yn:confidence\"] = np.where(path[\"profile_yn:confidence\"].between(0.620, 0.630), 0.62, path[\"profile_yn:confidence\"])\n",
        "path[\"profile_yn:confidence\"] = np.where(path[\"profile_yn:confidence\"].between(0.630, 0.640), 0.63, path[\"profile_yn:confidence\"])\n",
        "path[\"profile_yn:confidence\"] = np.where(path[\"profile_yn:confidence\"].between(0.640, 0.650), 0.64, path[\"profile_yn:confidence\"])\n",
        "path[\"profile_yn:confidence\"] = np.where(path[\"profile_yn:confidence\"].between(0.650, 0.660), 0.65, path[\"profile_yn:confidence\"])\n",
        "path[\"profile_yn:confidence\"] = np.where(path[\"profile_yn:confidence\"].between(0.660, 0.670), 0.66, path[\"profile_yn:confidence\"])\n",
        "path[\"profile_yn:confidence\"] = np.where(path[\"profile_yn:confidence\"].between(0.670, 0.680), 0.67, path[\"profile_yn:confidence\"])\n",
        "path[\"profile_yn:confidence\"] = np.where(path[\"profile_yn:confidence\"].between(0.680, 0.690), 0.68, path[\"profile_yn:confidence\"])\n",
        "path[\"profile_yn:confidence\"] = np.where(path[\"profile_yn:confidence\"].between(0.690, 0.700), 0.69, path[\"profile_yn:confidence\"])\n",
        "############jkgsauis\n",
        "path[\"profile_yn:confidence\"] = np.where(path[\"profile_yn:confidence\"].between(0.700, 0.710), 0.70, path[\"profile_yn:confidence\"])\n",
        "path[\"profile_yn:confidence\"] = np.where(path[\"profile_yn:confidence\"].between(0.710, 0.720), 0.71, path[\"profile_yn:confidence\"])\n",
        "path[\"profile_yn:confidence\"] = np.where(path[\"profile_yn:confidence\"].between(0.720, 0.730), 0.72, path[\"profile_yn:confidence\"])\n",
        "path[\"profile_yn:confidence\"] = np.where(path[\"profile_yn:confidence\"].between(0.730, 0.740), 0.73, path[\"profile_yn:confidence\"])\n",
        "path[\"profile_yn:confidence\"] = np.where(path[\"profile_yn:confidence\"].between(0.740, 0.750), 0.74, path[\"profile_yn:confidence\"])\n",
        "path[\"profile_yn:confidence\"] = np.where(path[\"profile_yn:confidence\"].between(0.750, 0.760), 0.75, path[\"profile_yn:confidence\"])\n",
        "path[\"profile_yn:confidence\"] = np.where(path[\"profile_yn:confidence\"].between(0.760, 0.770), 0.76, path[\"profile_yn:confidence\"])\n",
        "path[\"profile_yn:confidence\"] = np.where(path[\"profile_yn:confidence\"].between(0.770, 0.780), 0.77, path[\"profile_yn:confidence\"])\n",
        "path[\"profile_yn:confidence\"] = np.where(path[\"profile_yn:confidence\"].between(0.780, 0.790), 0.78, path[\"profile_yn:confidence\"])\n",
        "path[\"profile_yn:confidence\"] = np.where(path[\"profile_yn:confidence\"].between(0.790, 0.800), 0.79, path[\"profile_yn:confidence\"])\n",
        "#################ydsghgtisusiery\n",
        "path[\"profile_yn:confidence\"] = np.where(path[\"profile_yn:confidence\"].between(0.300, 0.310), 0.30, path[\"profile_yn:confidence\"])\n",
        "path[\"profile_yn:confidence\"] = np.where(path[\"profile_yn:confidence\"].between(0.310, 0.320), 0.31, path[\"profile_yn:confidence\"])\n",
        "path[\"profile_yn:confidence\"] = np.where(path[\"profile_yn:confidence\"].between(0.320, 0.330), 0.32, path[\"profile_yn:confidence\"])\n",
        "path[\"profile_yn:confidence\"] = np.where(path[\"profile_yn:confidence\"].between(0.330, 0.340), 0.33, path[\"profile_yn:confidence\"])\n",
        "path[\"profile_yn:confidence\"] = np.where(path[\"profile_yn:confidence\"].between(0.340, 0.350), 0.34, path[\"profile_yn:confidence\"])\n",
        "path[\"profile_yn:confidence\"] = np.where(path[\"profile_yn:confidence\"].between(0.350, 0.360), 0.35, path[\"profile_yn:confidence\"])\n",
        "path[\"profile_yn:confidence\"] = np.where(path[\"profile_yn:confidence\"].between(0.360, 0.370), 0.36, path[\"profile_yn:confidence\"])\n",
        "path[\"profile_yn:confidence\"] = np.where(path[\"profile_yn:confidence\"].between(0.370, 0.380), 0.37, path[\"profile_yn:confidence\"])\n",
        "path[\"profile_yn:confidence\"] = np.where(path[\"profile_yn:confidence\"].between(0.380, 0.390), 0.38, path[\"profile_yn:confidence\"])\n",
        "path[\"profile_yn:confidence\"] = np.where(path[\"profile_yn:confidence\"].between(0.390, 0.400), 0.39, path[\"profile_yn:confidence\"])\n",
        "path[\"profile_yn:confidence\"].unique()"
      ],
      "execution_count": 37,
      "outputs": [
        {
          "output_type": "execute_result",
          "data": {
            "text/plain": [
              "array([1.    , 0.65  , 0.67  , 0.64  , 0.69  , 0.66  , 0.68  , 0.63  ,\n",
              "       0.62  , 0.9612, 0.9636])"
            ]
          },
          "metadata": {
            "tags": []
          },
          "execution_count": 37
        }
      ]
    },
    {
      "cell_type": "code",
      "metadata": {
        "id": "KGFJWnP2Yb0V",
        "colab_type": "code",
        "colab": {
          "base_uri": "https://localhost:8080/",
          "height": 51
        },
        "outputId": "d415fbad-8088-424d-9da6-3506e440e2cb"
      },
      "source": [
        "path[\"retweet_count\"].unique()"
      ],
      "execution_count": 38,
      "outputs": [
        {
          "output_type": "execute_result",
          "data": {
            "text/plain": [
              "array([  0,   1,   2,  12, 330,   3,   7,  11,  10,   5,  13,  23,  15,\n",
              "         4, 153,  49,   8,   9,   6,  36,  20,  19])"
            ]
          },
          "metadata": {
            "tags": []
          },
          "execution_count": 38
        }
      ]
    },
    {
      "cell_type": "code",
      "metadata": {
        "id": "UkrcM-rDYmnq",
        "colab_type": "code",
        "colab": {
          "base_uri": "https://localhost:8080/",
          "height": 34
        },
        "outputId": "a0211eda-be14-4fda-d238-c18adb27eb91"
      },
      "source": [
        "path[\"retweet_count\"] = np.where(path[\"retweet_count\"].between(0, 50), 25, path[\"retweet_count\"])\n",
        "path[\"retweet_count\"] = np.where(path[\"retweet_count\"].between(50, 100), 75, path[\"retweet_count\"])\n",
        "path[\"retweet_count\"] = np.where(path[\"retweet_count\"].between(100, 150), 125, path[\"retweet_count\"])\n",
        "path[\"retweet_count\"] = np.where(path[\"retweet_count\"].between(150, 200), 175, path[\"retweet_count\"])\n",
        "path[\"retweet_count\"] = np.where(path[\"retweet_count\"].between(250, 300), 225, path[\"retweet_count\"])\n",
        "path[\"retweet_count\"] = np.where(path[\"retweet_count\"].between(300, 350), 275, path[\"retweet_count\"])\n",
        "path[\"retweet_count\"] = np.where(path[\"retweet_count\"].between(350, 400), 375, path[\"retweet_count\"])\n",
        "path[\"retweet_count\"].unique()"
      ],
      "execution_count": 39,
      "outputs": [
        {
          "output_type": "execute_result",
          "data": {
            "text/plain": [
              "array([ 25, 275, 175])"
            ]
          },
          "metadata": {
            "tags": []
          },
          "execution_count": 39
        }
      ]
    },
    {
      "cell_type": "code",
      "metadata": {
        "id": "5BhYOI8nY2vO",
        "colab_type": "code",
        "colab": {}
      },
      "source": [
        "path[\"profile_yn\"].replace(to_replace = \"yes\", value = 1, inplace = True)\n",
        "path[\"profile_yn\"].replace(to_replace = \"no\", value = 0, inplace = True)"
      ],
      "execution_count": 46,
      "outputs": []
    },
    {
      "cell_type": "code",
      "metadata": {
        "id": "vCvIr97iZRQp",
        "colab_type": "code",
        "colab": {}
      },
      "source": [
        "x = path[[\"_golden\", \"gender:confidence\", \"profile_yn\", \"retweet_count\", \"tweet_id\"]]\n",
        "y = path[\"gender\"]"
      ],
      "execution_count": 55,
      "outputs": []
    },
    {
      "cell_type": "code",
      "metadata": {
        "id": "RchLOvezZXSp",
        "colab_type": "code",
        "colab": {}
      },
      "source": [
        "from sklearn.model_selection import train_test_split as tts"
      ],
      "execution_count": 56,
      "outputs": []
    },
    {
      "cell_type": "code",
      "metadata": {
        "id": "OqFT-GiUZkZU",
        "colab_type": "code",
        "colab": {
          "base_uri": "https://localhost:8080/",
          "height": 442
        },
        "outputId": "39dabc80-4862-4202-c09d-c6b3fe87fd23"
      },
      "source": [
        "x_tr, x_te, y_tr, y_te = tts(x, y, test_size = 0.2, random_state = 2)\n",
        "x_tr, y_tr"
      ],
      "execution_count": 57,
      "outputs": [
        {
          "output_type": "execute_result",
          "data": {
            "text/plain": [
              "(       _golden  gender:confidence  profile_yn  retweet_count      tweet_id\n",
              " 2939     False               1.00           1             25  6.587300e+17\n",
              " 10029    False               0.35           1             25  6.587400e+17\n",
              " 14692    False               0.67           1             25  6.587400e+17\n",
              " 13053    False               0.68           1             25  6.587400e+17\n",
              " 19585    False               1.00           1             25  6.587400e+17\n",
              " ...        ...                ...         ...            ...           ...\n",
              " 1099     False               1.00           1             25  6.587300e+17\n",
              " 18898    False               0.33           1             25  6.587400e+17\n",
              " 11798    False               1.00           1             25  6.587400e+17\n",
              " 6637     False               1.00           1             25  6.587300e+17\n",
              " 2575     False               1.00           1             25  6.587300e+17\n",
              " \n",
              " [16040 rows x 5 columns], 2939     1\n",
              " 10029    0\n",
              " 14692    0\n",
              " 13053    0\n",
              " 19585    0\n",
              "         ..\n",
              " 1099     1\n",
              " 18898    1\n",
              " 11798    0\n",
              " 6637     0\n",
              " 2575     1\n",
              " Name: gender, Length: 16040, dtype: int64)"
            ]
          },
          "metadata": {
            "tags": []
          },
          "execution_count": 57
        }
      ]
    },
    {
      "cell_type": "code",
      "metadata": {
        "id": "M00pIUoHZ4RW",
        "colab_type": "code",
        "colab": {}
      },
      "source": [
        "from sklearn.ensemble import RandomForestClassifier as rfc"
      ],
      "execution_count": 58,
      "outputs": []
    },
    {
      "cell_type": "code",
      "metadata": {
        "id": "Qjz3EFo1axPz",
        "colab_type": "code",
        "colab": {
          "base_uri": "https://localhost:8080/",
          "height": 34
        },
        "outputId": "70146991-f54e-46bd-e474-90f47ee9dd6b"
      },
      "source": [
        "rfr = rfc()\n",
        "rfr.fit(x_tr, y_tr)\n",
        "y_pred = rfr.predict(x_te)\n",
        "y_pred"
      ],
      "execution_count": 59,
      "outputs": [
        {
          "output_type": "execute_result",
          "data": {
            "text/plain": [
              "array([1, 1, 1, ..., 0, 2, 0])"
            ]
          },
          "metadata": {
            "tags": []
          },
          "execution_count": 59
        }
      ]
    },
    {
      "cell_type": "code",
      "metadata": {
        "id": "5VcmEVl_a3h-",
        "colab_type": "code",
        "colab": {
          "base_uri": "https://localhost:8080/",
          "height": 34
        },
        "outputId": "fff08f3f-dba8-403d-ca8c-73759c47dfc0"
      },
      "source": [
        "from sklearn.metrics import mean_absolute_error as mae\n",
        "print(\"Mean absolute error for RandomForestClassifier is \", mae(y_pred, y_te))"
      ],
      "execution_count": 60,
      "outputs": [
        {
          "output_type": "stream",
          "text": [
            "Mean absolute error for RandomForestClassifier is  0.785286783042394\n"
          ],
          "name": "stdout"
        }
      ]
    },
    {
      "cell_type": "code",
      "metadata": {
        "id": "iykI9dUya9hu",
        "colab_type": "code",
        "colab": {
          "base_uri": "https://localhost:8080/",
          "height": 34
        },
        "outputId": "0cd62177-ca4e-40f4-fce0-d0cb32399584"
      },
      "source": [
        "print(\"Therefore this is the best ensemble classification algorithm for the given data set\")"
      ],
      "execution_count": 61,
      "outputs": [
        {
          "output_type": "stream",
          "text": [
            "Therefore this is the best ensemble classification algorithm for the given data set\n"
          ],
          "name": "stdout"
        }
      ]
    },
    {
      "cell_type": "code",
      "metadata": {
        "id": "ge6ZpXg5bEPE",
        "colab_type": "code",
        "colab": {}
      },
      "source": [
        "#Questions for data:\n",
        "#1.Who is more active in twitter?\n",
        "#2.How many male _golden and female _golden users are there?"
      ],
      "execution_count": 62,
      "outputs": []
    },
    {
      "cell_type": "code",
      "metadata": {
        "id": "MbSwlJwnbb6C",
        "colab_type": "code",
        "colab": {}
      },
      "source": [
        "path[\"gender\"].replace(to_replace = 1, value = \"male\", inplace = True)\n",
        "path[\"gender\"].replace(to_replace = 0, value = \"female\", inplace = True)\n",
        "path[\"gender\"].replace(to_replace = 2, value = \"brand\", inplace = True)\n",
        "path[\"gender\"].replace(to_replace = 3, value = \"unknown\", inplace = True)"
      ],
      "execution_count": 63,
      "outputs": []
    },
    {
      "cell_type": "code",
      "metadata": {
        "id": "j1Icr3DWbhyk",
        "colab_type": "code",
        "colab": {
          "base_uri": "https://localhost:8080/",
          "height": 102
        },
        "outputId": "be84e2df-e8df-42b8-c596-aeeb5a6dabd1"
      },
      "source": [
        "path[\"gender\"].value_counts()"
      ],
      "execution_count": 65,
      "outputs": [
        {
          "output_type": "execute_result",
          "data": {
            "text/plain": [
              "female     6740\n",
              "male       6216\n",
              "brand      5973\n",
              "unknown    1121\n",
              "Name: gender, dtype: int64"
            ]
          },
          "metadata": {
            "tags": []
          },
          "execution_count": 65
        }
      ]
    },
    {
      "cell_type": "code",
      "metadata": {
        "id": "-S9kNMyXbn8w",
        "colab_type": "code",
        "colab": {
          "base_uri": "https://localhost:8080/",
          "height": 170
        },
        "outputId": "3734a131-2273-4249-e484-60bd12668396"
      },
      "source": [
        "#Answer for question 1:By the above answer female are more active in twitter\n",
        "path.groupby(\"_golden\")[\"gender\"].value_counts()"
      ],
      "execution_count": 68,
      "outputs": [
        {
          "output_type": "execute_result",
          "data": {
            "text/plain": [
              "_golden  gender \n",
              "False    female     6725\n",
              "         male       6195\n",
              "         brand      5959\n",
              "         unknown    1121\n",
              "True     male         21\n",
              "         female       15\n",
              "         brand        14\n",
              "Name: gender, dtype: int64"
            ]
          },
          "metadata": {
            "tags": []
          },
          "execution_count": 68
        }
      ]
    },
    {
      "cell_type": "code",
      "metadata": {
        "id": "qG5cclNocASG",
        "colab_type": "code",
        "colab": {}
      },
      "source": [
        "#Answer for Question 2:There are total of 21 male _golden users and 15 female _golden users are present and 6725 female not_golden and 6195 male not_golden are present\n"
      ],
      "execution_count": 69,
      "outputs": []
    }
  ]
}